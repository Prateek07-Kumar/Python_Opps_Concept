{
 "cells": [
  {
   "cell_type": "code",
   "execution_count": 8,
   "id": "a766272f",
   "metadata": {},
   "outputs": [],
   "source": [
    "class car:\n",
    "    pass       "
   ]
  },
  {
   "cell_type": "code",
   "execution_count": 9,
   "id": "73ae9ee6",
   "metadata": {},
   "outputs": [],
   "source": [
    "audiq7 = car()"
   ]
  },
  {
   "cell_type": "code",
   "execution_count": 10,
   "id": "e0338cd2",
   "metadata": {},
   "outputs": [],
   "source": [
    "audiq7.milage  = 10\n",
    "audiq7.year= 2020\n",
    "audiq7.make = 345\n",
    "audiq7.model = \"fgdf\""
   ]
  },
  {
   "cell_type": "code",
   "execution_count": 11,
   "id": "e547eb9b",
   "metadata": {},
   "outputs": [
    {
     "data": {
      "text/plain": [
       "10"
      ]
     },
     "execution_count": 11,
     "metadata": {},
     "output_type": "execute_result"
    }
   ],
   "source": [
    "audiq7.milage"
   ]
  },
  {
   "cell_type": "code",
   "execution_count": 12,
   "id": "bae06aa7",
   "metadata": {},
   "outputs": [
    {
     "data": {
      "text/plain": [
       "'fgdf'"
      ]
     },
     "execution_count": 12,
     "metadata": {},
     "output_type": "execute_result"
    }
   ],
   "source": [
    "audiq7.model"
   ]
  },
  {
   "cell_type": "code",
   "execution_count": 13,
   "id": "f7b6ea9d",
   "metadata": {},
   "outputs": [
    {
     "data": {
      "text/plain": [
       "2020"
      ]
     },
     "execution_count": 13,
     "metadata": {},
     "output_type": "execute_result"
    }
   ],
   "source": [
    "audiq7.year"
   ]
  },
  {
   "cell_type": "code",
   "execution_count": 14,
   "id": "33d19d6e",
   "metadata": {},
   "outputs": [],
   "source": [
    "nano = car()"
   ]
  },
  {
   "cell_type": "code",
   "execution_count": 15,
   "id": "4782bb5a",
   "metadata": {},
   "outputs": [],
   "source": [
    "nano.milage = 20\n",
    "nano.year = 2020\n",
    "nano.make = 234\n",
    "nano.model = \"dfdd\"\n",
    "nano.enginno = 3457457133664"
   ]
  },
  {
   "cell_type": "code",
   "execution_count": 16,
   "id": "79bff2c6",
   "metadata": {},
   "outputs": [
    {
     "name": "stdout",
     "output_type": "stream",
     "text": [
      "20 10\n"
     ]
    }
   ],
   "source": [
    "print(nano.milage, audiq7.milage)"
   ]
  },
  {
   "cell_type": "code",
   "execution_count": 17,
   "id": "2a6831d9",
   "metadata": {},
   "outputs": [],
   "source": [
    "class car :\n",
    "    def __init__(self , milage , year , make , model):\n",
    "        self.milage = milage\n",
    "        self.year = year\n",
    "        self.make = make\n",
    "        self.model = model "
   ]
  },
  {
   "cell_type": "code",
   "execution_count": 18,
   "id": "4ee8a81d",
   "metadata": {},
   "outputs": [],
   "source": [
    "nano1 = car(20, 2020, 32456, \"324dsf\")\n",
    "audiq71 = car(10,2020,543,\"ffdd\")"
   ]
  },
  {
   "cell_type": "code",
   "execution_count": 19,
   "id": "49e70ea4",
   "metadata": {},
   "outputs": [
    {
     "data": {
      "text/plain": [
       "20"
      ]
     },
     "execution_count": 19,
     "metadata": {},
     "output_type": "execute_result"
    }
   ],
   "source": [
    "nano1.milage"
   ]
  },
  {
   "cell_type": "code",
   "execution_count": 46,
   "id": "1489511b",
   "metadata": {},
   "outputs": [],
   "source": [
    "nano1 = car(20, 2020, 32456, \"324dsf\")\n",
    "audiq71 = car(10,2020,543,\"ffdd\")\n",
    "nano2 = car(20, 2020, 32456, \"324dsf\")\n",
    "audiq72 = car(10,2020,543,\"ffdd\")                           # \n",
    "nano3 = car(20, 2020, 32456, \"324dsf\")\n",
    "audiq73 = car(10,2020,543,\"ffdd\")\n",
    "nano4 = car(20, 2020, 32456, \"324dsf\")\n",
    "audiq75 = car(10,2020,543,\"ffdd\")\n",
    "nano6 = car(20, 2020, 32456, \"324dsf\")\n",
    "audiq76 = car(10,2020,543,\"ffdd\")\n",
    "nano7 = car(20, 2020, 32456, \"324dsf\")\n",
    "audiq77 = car(10,2020,543,\"ffdd\")"
   ]
  },
  {
   "cell_type": "code",
   "execution_count": 47,
   "id": "8fbd52a6",
   "metadata": {},
   "outputs": [],
   "source": [
    "class car :\n",
    "    def __init__(a , milage , year , make , model):\n",
    "        a.milage = milage                      # you have to use any name like \"a\" or something other alphabatic word\n",
    "        a.year = year\n",
    "        a.make = make\n",
    "        a.model = model "
   ]
  },
  {
   "cell_type": "code",
   "execution_count": 48,
   "id": "6731a9c8",
   "metadata": {},
   "outputs": [],
   "source": [
    "nano6 = car(20, 2020, 32456, \"324dsf\")"
   ]
  },
  {
   "cell_type": "code",
   "execution_count": 49,
   "id": "85ad9ff5",
   "metadata": {},
   "outputs": [
    {
     "data": {
      "text/plain": [
       "20"
      ]
     },
     "execution_count": 49,
     "metadata": {},
     "output_type": "execute_result"
    }
   ],
   "source": [
    "nano6.milage"
   ]
  },
  {
   "cell_type": "code",
   "execution_count": 24,
   "id": "d17b99ea",
   "metadata": {},
   "outputs": [
    {
     "ename": "AttributeError",
     "evalue": "'car' object has no attribute 'm'",
     "output_type": "error",
     "traceback": [
      "\u001b[1;31m---------------------------------------------------------------------------\u001b[0m",
      "\u001b[1;31mAttributeError\u001b[0m                            Traceback (most recent call last)",
      "\u001b[1;32mC:\\Users\\Public\\Documents\\iSkysoft\\CreatorTemp/ipykernel_11544/2037921464.py\u001b[0m in \u001b[0;36m<module>\u001b[1;34m\u001b[0m\n\u001b[1;32m----> 1\u001b[1;33m \u001b[0mnano6\u001b[0m\u001b[1;33m.\u001b[0m\u001b[0mm\u001b[0m                   \u001b[1;31m# can't find 'm' single word code of m is not exit use full name of variable like 'milage' or something\u001b[0m\u001b[1;33m\u001b[0m\u001b[1;33m\u001b[0m\u001b[0m\n\u001b[0m",
      "\u001b[1;31mAttributeError\u001b[0m: 'car' object has no attribute 'm'"
     ]
    }
   ],
   "source": [
    "nano6.m                   # can't find 'm' single word code of m is not exit use full name of variable like 'milage' or something"
   ]
  },
  {
   "cell_type": "code",
   "execution_count": 25,
   "id": "24c4363e",
   "metadata": {},
   "outputs": [],
   "source": [
    "nano6 = car(20, 2020, 32456, \"324dsf\")"
   ]
  },
  {
   "cell_type": "code",
   "execution_count": 26,
   "id": "6832c8a1",
   "metadata": {},
   "outputs": [
    {
     "data": {
      "text/plain": [
       "20"
      ]
     },
     "execution_count": 26,
     "metadata": {},
     "output_type": "execute_result"
    }
   ],
   "source": [
    "nano6.milage"
   ]
  },
  {
   "cell_type": "code",
   "execution_count": 27,
   "id": "98811add",
   "metadata": {},
   "outputs": [],
   "source": [
    "class car :\n",
    "    def __init__(a , m , y , ma , mo):\n",
    "        a.milage = m                      \n",
    "        a.year = y\n",
    "        a.make = ma                     #age is to find the variable of year\n",
    "        a.model = mo \n",
    "        \n",
    "    def age(self, current_year):\n",
    "        return current_year - self.year"
   ]
  },
  {
   "cell_type": "code",
   "execution_count": 28,
   "id": "cbc8eb0f",
   "metadata": {},
   "outputs": [],
   "source": [
    "nano6 = car(20, 2020, 32456, \"324dsf\")"
   ]
  },
  {
   "cell_type": "code",
   "execution_count": 29,
   "id": "53667caa",
   "metadata": {},
   "outputs": [
    {
     "data": {
      "text/plain": [
       "<bound method car.age of <__main__.car object at 0x000002656341FF70>>"
      ]
     },
     "execution_count": 29,
     "metadata": {},
     "output_type": "execute_result"
    }
   ],
   "source": [
    "nano6.age"
   ]
  },
  {
   "cell_type": "code",
   "execution_count": 30,
   "id": "4ba47511",
   "metadata": {},
   "outputs": [],
   "source": [
    "class car :\n",
    "    def __init__(a , m , y , ma , mo):\n",
    "        a.milage = m                      \n",
    "        a.year = y\n",
    "        a.make = ma\n",
    "        a.model = mo                        #'self' you have to change your pointer like self as 'a' or something othere also \n",
    "        \n",
    "    def age(b, current_year):\n",
    "        return current_year - b.year\n",
    "    \n",
    "    def milage1(self):\n",
    "        print(\"print a milage of a car\" , self.milage)\n",
    "        #return str(self.milage)\n",
    "    def __str__(c):                                            #its a inbuild method  \n",
    "        return \"this is my car class i have created\"           # if you type some msg then use 'str __c'"
   ]
  },
  {
   "cell_type": "code",
   "execution_count": 31,
   "id": "2e9210c5",
   "metadata": {},
   "outputs": [],
   "source": [
    "nano6 = car(20, 2020, 32456, \"324dsf\")"
   ]
  },
  {
   "cell_type": "code",
   "execution_count": 32,
   "id": "8ec1d7fd",
   "metadata": {},
   "outputs": [
    {
     "name": "stdout",
     "output_type": "stream",
     "text": [
      "print a milage of a car 20\n"
     ]
    }
   ],
   "source": [
    "nano6.milage1()"
   ]
  },
  {
   "cell_type": "code",
   "execution_count": 33,
   "id": "338305da",
   "metadata": {},
   "outputs": [
    {
     "data": {
      "text/plain": [
       "1"
      ]
     },
     "execution_count": 33,
     "metadata": {},
     "output_type": "execute_result"
    }
   ],
   "source": [
    "nano6.age(2021)"
   ]
  },
  {
   "cell_type": "code",
   "execution_count": 34,
   "id": "bd41ce75",
   "metadata": {},
   "outputs": [
    {
     "name": "stdout",
     "output_type": "stream",
     "text": [
      "this is my car class i have created\n"
     ]
    }
   ],
   "source": [
    "print(nano6)"
   ]
  },
  {
   "cell_type": "code",
   "execution_count": 35,
   "id": "3307d2c8",
   "metadata": {},
   "outputs": [],
   "source": [
    "class student:\n",
    "    \n",
    "    def __init__(self , name , rollno , joining_date , current_topic):\n",
    "        self.name = name\n",
    "        self.rollno = rollno\n",
    "        self.joining_date = joining_date\n",
    "        self.current_topic = current_topic\n",
    "        \n",
    "    def crt_topic(self):\n",
    "        print(\"current topic discussed in  my class\" , self.crt_topic)\n",
    "        \n",
    "    def str_rollno(self):   #convert data in string\n",
    "        if type(self.rollno) == str:\n",
    "            print(\"do nothing \")\n",
    "            \n",
    "        else :\n",
    "            return str(self.rollno)\n",
    "    \n",
    "    def duration(self,current_date) :       #duration mean is to current_date - joining_date\n",
    "        \n",
    "        print(\"duration of my student in my class is\" , current_date- self.joining_date)\n",
    "        \n",
    "    def __str__(self):\n",
    "        \n",
    "        return \"this is student class where they can try to input there own data and they can try to fetch it\"\n",
    "    \n",
    "    \n",
    "        "
   ]
  },
  {
   "cell_type": "code",
   "execution_count": 36,
   "id": "be9d65cc",
   "metadata": {},
   "outputs": [
    {
     "name": "stdout",
     "output_type": "stream",
     "text": [
      "this is student class where they can try to input there own data and they can try to fetch it\n"
     ]
    }
   ],
   "source": [
    "srini = student(\"srini\", 545264, 2021, \"opps\")\n",
    "print(srini)"
   ]
  },
  {
   "cell_type": "code",
   "execution_count": 37,
   "id": "722a7fd4",
   "metadata": {},
   "outputs": [
    {
     "name": "stdout",
     "output_type": "stream",
     "text": [
      "duration of my student in my class is 0\n"
     ]
    }
   ],
   "source": [
    "srini.duration(2021)"
   ]
  },
  {
   "cell_type": "code",
   "execution_count": 38,
   "id": "cd85518e",
   "metadata": {},
   "outputs": [
    {
     "data": {
      "text/plain": [
       "'545264'"
      ]
     },
     "execution_count": 38,
     "metadata": {},
     "output_type": "execute_result"
    }
   ],
   "source": [
    "srini.str_rollno()"
   ]
  },
  {
   "cell_type": "code",
   "execution_count": 39,
   "id": "a6e8efd3",
   "metadata": {},
   "outputs": [
    {
     "name": "stdout",
     "output_type": "stream",
     "text": [
      "this is student class where they can try to input there own data and they can try to fetch it\n"
     ]
    }
   ],
   "source": [
    "print(srini)"
   ]
  },
  {
   "cell_type": "code",
   "execution_count": 40,
   "id": "23923afa",
   "metadata": {},
   "outputs": [],
   "source": [
    "class student:\n",
    "    \n",
    "    def __init__(self , name , rollno , joining_date , current_topic):\n",
    "        self.name = name\n",
    "        self.rollno = rollno\n",
    "        self.joining_date = joining_date\n",
    "        self.current_topic = current_topic\n",
    "        \n",
    "    def name_Parsing(self) :\n",
    "        if type(self.name) == list:\n",
    "            for i in self.name :\n",
    "                print(\"name of the student \" , i)\n",
    "                \n",
    "        else :\n",
    "            print(\"provided name is not in a form of list \")\n",
    "        \n",
    "    def crt_topic(self):\n",
    "        print(\"current topic discussed in  my class\" , self.crt_topic)\n",
    "        \n",
    "    def str_rollno(self):\n",
    "        \n",
    "        try :\n",
    "            \n",
    "            if type(self.rollno) == str:\n",
    "                print(\"do nothing \")\n",
    "\n",
    "            else :\n",
    "                return str(self.rollno)\n",
    "        except Exception as e:\n",
    "            \n",
    "            print(\"this is my error msg\" ,e)\n",
    "\n",
    "    def duration(self,current_date) :\n",
    "        \n",
    "        print(\"duration of my student in my class is\" , current_date- self.joining_date)\n",
    "        \n",
    "    def __str__(self):\n",
    "        \n",
    "        return \"this is student class where they can try to input there own data and they can try to fetch it\"\n",
    "    \n",
    "    \n",
    "        "
   ]
  },
  {
   "cell_type": "code",
   "execution_count": 41,
   "id": "67287fbf",
   "metadata": {},
   "outputs": [],
   "source": [
    "pawan = student([\"naveen\" , \"jay\" , \"himanshu\" , \"prakash\"], [234,542,25451,34,234], 2021 ,  \"opps\")"
   ]
  },
  {
   "cell_type": "code",
   "execution_count": 42,
   "id": "91096a62",
   "metadata": {},
   "outputs": [
    {
     "name": "stdout",
     "output_type": "stream",
     "text": [
      "name of the student  naveen\n",
      "name of the student  jay\n",
      "name of the student  himanshu\n",
      "name of the student  prakash\n"
     ]
    }
   ],
   "source": [
    "pawan.name_Parsing()"
   ]
  },
  {
   "cell_type": "code",
   "execution_count": 43,
   "id": "801057d5",
   "metadata": {},
   "outputs": [
    {
     "data": {
      "text/plain": [
       "['naveen', 'jay', 'himanshu', 'prakash']"
      ]
     },
     "execution_count": 43,
     "metadata": {},
     "output_type": "execute_result"
    }
   ],
   "source": [
    "pawan.name"
   ]
  },
  {
   "cell_type": "code",
   "execution_count": 44,
   "id": "c4655bbe",
   "metadata": {},
   "outputs": [],
   "source": [
    "#Q1\n",
    "# create a class as data \n",
    "# create fileName as list, file_type as dict and tuple, date, size \n",
    "# file_open () create file if nef exit\n",
    "# write something in file\n",
    "#file_read (__)\n",
    "#file_append()\n",
    "# append new data in same file and show \n",
    "\n",
    "#Q2\n",
    "#exceptional handeling \n",
    "#logger "
   ]
  },
  {
   "cell_type": "code",
   "execution_count": 45,
   "id": "7961972d",
   "metadata": {},
   "outputs": [
    {
     "name": "stdout",
     "output_type": "stream",
     "text": [
      "this is test file \n"
     ]
    }
   ],
   "source": [
    "class data:\n",
    "    def __init__(self , fileName , file_type , date , size):\n",
    "        self.filename = fileName\n",
    "        self.file_type = file_type\n",
    "        self.data = data\n",
    "        self.size = size\n",
    "    \n",
    "    def fileopen(self):\n",
    "        f = open(self.filename, \"w\")\n",
    "        f.write(\"this is test file \")\n",
    "        f.close()\n",
    "        \n",
    "    def fileread(self):\n",
    "        f = open(self.filename, 'r')\n",
    "        print(f.read())\n",
    "        f.close()\n",
    "        \n",
    "    def fileappend(self):\n",
    "        f = open(self.filename,'a')\n",
    "        f.write(\"appending data to file\")\n",
    "        f.close()\n",
    "        \n",
    "file1 = data(\"prateek\",\"30-09-2022\",\"kumar\",\"ineuron\")\n",
    "file1.fileopen()\n",
    "file1.fileread()\n",
    "file1.fileappend()\n",
    "        \n",
    "    \n",
    "    "
   ]
  },
  {
   "cell_type": "code",
   "execution_count": null,
   "id": "45f2bb68",
   "metadata": {},
   "outputs": [],
   "source": []
  },
  {
   "cell_type": "code",
   "execution_count": null,
   "id": "986d8b12",
   "metadata": {},
   "outputs": [],
   "source": []
  }
 ],
 "metadata": {
  "kernelspec": {
   "display_name": "Python 3 (ipykernel)",
   "language": "python",
   "name": "python3"
  },
  "language_info": {
   "codemirror_mode": {
    "name": "ipython",
    "version": 3
   },
   "file_extension": ".py",
   "mimetype": "text/x-python",
   "name": "python",
   "nbconvert_exporter": "python",
   "pygments_lexer": "ipython3",
   "version": "3.9.7"
  }
 },
 "nbformat": 4,
 "nbformat_minor": 5
}
